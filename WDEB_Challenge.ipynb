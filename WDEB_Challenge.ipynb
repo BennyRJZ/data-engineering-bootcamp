{
 "cells": [
  {
   "cell_type": "markdown",
   "metadata": {},
   "source": [
    "# Wizeline Data Engieneering Bootcamp, Challenge"
   ]
  },
  {
   "cell_type": "markdown",
   "metadata": {},
   "source": [
    "## Introduction\n",
    "\n",
    "The main of this project it is to process a larga dataset provided by the PROFECO (Mexican Consumer Protection Agency) and make an exploratory analysis that would give us a better understanding of the data stored there."
   ]
  },
  {
   "cell_type": "markdown",
   "metadata": {},
   "source": [
    "## Report & Code of the Solution\n",
    "### General Imports"
   ]
  },
  {
   "cell_type": "code",
   "execution_count": 10,
   "metadata": {},
   "outputs": [],
   "source": [
    "import pandas as pd\n",
    "import time # Used to meseaure the performance of the code."
   ]
  },
  {
   "cell_type": "markdown",
   "metadata": {},
   "source": [
    "### Importing data to Pandas Dataframe.\n",
    "In my first try, I tried to open the dataset in the usual way to open, unfortunately this was too slow and sometimes throwed some errors due to the size of the file."
   ]
  },
  {
   "cell_type": "markdown",
   "metadata": {},
   "source": [
    "* Code\n",
    "```python\n",
    "start = time.time()\n",
    "data = pd.read_csv(\"data/all_data.csv\")\n",
    "end = time.time()\n",
    "print(\"Read csv in the 'traditional' way: \",(end-start),\"sec\")\n",
    "```\n",
    "* Result:\n",
    "```\n",
    "/Users/benny/opt/anaconda3/lib/python3.8/site-packages/IPython/core/interactiveshell.py:3146: DtypeWarning: Columns (5,13,14) have mixed types.Specify dtype option on import or set low_memory=False.\n",
    "  has_raised = await self.run_ast_nodes(code_ast.body, cell_name,\n",
    "Read csv in the 'traditional' way:  266.19145798683167 sec\n",
    "```\n",
    "* Shape of the data:\n",
    "```\n",
    "(62530715, 15)\n",
    "```"
   ]
  },
  {
   "cell_type": "markdown",
   "metadata": {},
   "source": [
    "Shape of our data:"
   ]
  },
  {
   "cell_type": "code",
   "execution_count": 11,
   "metadata": {},
   "outputs": [
    {
     "data": {
      "text/plain": [
       "(62530715, 15)"
      ]
     },
     "execution_count": 11,
     "metadata": {},
     "output_type": "execute_result"
    }
   ],
   "source": [
    "data.shape"
   ]
  },
  {
   "cell_type": "markdown",
   "metadata": {},
   "source": [
    "Using the alternitve method:"
   ]
  },
  {
   "cell_type": "code",
   "execution_count": 7,
   "metadata": {},
   "outputs": [
    {
     "name": "stdout",
     "output_type": "stream",
     "text": [
      "Read csv with chunks:  0.002966165542602539 sec\n"
     ]
    }
   ],
   "source": [
    "start = time.time()\n",
    "chunk = pd.read_csv('data/all_data.csv',chunksize=1000000)\n",
    "end = time.time()\n",
    "data = pd.concat(chunk)\n",
    "print(\"Read csv with chunks: \",(end-start),\"sec\")"
   ]
  },
  {
   "cell_type": "code",
   "execution_count": 22,
   "metadata": {},
   "outputs": [
    {
     "data": {
      "text/plain": [
       "(62530715, 15)"
      ]
     },
     "execution_count": 22,
     "metadata": {},
     "output_type": "execute_result"
    }
   ],
   "source": [
    "data.shape"
   ]
  },
  {
   "cell_type": "markdown",
   "metadata": {},
   "source": [
    "### Exploratory Analysis\n",
    "Now that I imported the data, its time to start wit the exploratory analysis. In my professional experience (that it's not much yet) I discovered that the speed of Pandas depedends directly of the number of columns, so for my solution, I will make a serie of subsets in order to get the results faster.\n"
   ]
  },
  {
   "cell_type": "markdown",
   "metadata": {},
   "source": [
    "#### 1. How many commercial chains are monitored, and therefore, included in this database?\n",
    "Code:"
   ]
  },
  {
   "cell_type": "code",
   "execution_count": 50,
   "metadata": {},
   "outputs": [
    {
     "name": "stdout",
     "output_type": "stream",
     "text": [
      "There are 705 commercials chains monitored in this database.\n"
     ]
    }
   ],
   "source": [
    "cc = data['cadenaComercial'].copy()\n",
    "nan_value = float(\"NaN\")\n",
    "cc.replace(\"\", nan_value, inplace=True) #Deleting empty records\n",
    "cc = cc.dropna() #I use this panda's function to ensure that I am not counting null values.\n",
    "monitored = len(cc.unique())\n",
    "\n",
    "print(f'There are {monitored} commercials chains monitored in this database.')\n",
    "del cc"
   ]
  },
  {
   "cell_type": "markdown",
   "metadata": {},
   "source": [
    "#### 2. What are the top 10 monitored products by State?\n",
    "Code:"
   ]
  },
  {
   "cell_type": "code",
   "execution_count": 125,
   "metadata": {},
   "outputs": [
    {
     "data": {
      "text/html": [
       "<div>\n",
       "<style scoped>\n",
       "    .dataframe tbody tr th:only-of-type {\n",
       "        vertical-align: middle;\n",
       "    }\n",
       "\n",
       "    .dataframe tbody tr th {\n",
       "        vertical-align: top;\n",
       "    }\n",
       "\n",
       "    .dataframe thead th {\n",
       "        text-align: right;\n",
       "    }\n",
       "</style>\n",
       "<table border=\"1\" class=\"dataframe\">\n",
       "  <thead>\n",
       "    <tr style=\"text-align: right;\">\n",
       "      <th></th>\n",
       "      <th>producto</th>\n",
       "      <th>estado</th>\n",
       "      <th>n_products</th>\n",
       "    </tr>\n",
       "  </thead>\n",
       "  <tbody>\n",
       "    <tr>\n",
       "      <th>0</th>\n",
       "      <td>DETERGENTE P/ROPA</td>\n",
       "      <td>ZACATECAS</td>\n",
       "      <td>20884</td>\n",
       "    </tr>\n",
       "    <tr>\n",
       "      <th>1</th>\n",
       "      <td>LECHE ULTRAPASTEURIZADA</td>\n",
       "      <td>ZACATECAS</td>\n",
       "      <td>17309</td>\n",
       "    </tr>\n",
       "    <tr>\n",
       "      <th>2</th>\n",
       "      <td>LAVADORAS</td>\n",
       "      <td>ZACATECAS</td>\n",
       "      <td>16072</td>\n",
       "    </tr>\n",
       "    <tr>\n",
       "      <th>3</th>\n",
       "      <td>MAYONESA</td>\n",
       "      <td>ZACATECAS</td>\n",
       "      <td>15927</td>\n",
       "    </tr>\n",
       "    <tr>\n",
       "      <th>4</th>\n",
       "      <td>JABON DE TOCADOR</td>\n",
       "      <td>ZACATECAS</td>\n",
       "      <td>15926</td>\n",
       "    </tr>\n",
       "    <tr>\n",
       "      <th>...</th>\n",
       "      <td>...</td>\n",
       "      <td>...</td>\n",
       "      <td>...</td>\n",
       "    </tr>\n",
       "    <tr>\n",
       "      <th>315</th>\n",
       "      <td>DESODORANTE</td>\n",
       "      <td>AGUASCALIENTES</td>\n",
       "      <td>8859</td>\n",
       "    </tr>\n",
       "    <tr>\n",
       "      <th>316</th>\n",
       "      <td>JABON DE TOCADOR</td>\n",
       "      <td>AGUASCALIENTES</td>\n",
       "      <td>8517</td>\n",
       "    </tr>\n",
       "    <tr>\n",
       "      <th>317</th>\n",
       "      <td>CHILES EN LATA</td>\n",
       "      <td>AGUASCALIENTES</td>\n",
       "      <td>7946</td>\n",
       "    </tr>\n",
       "    <tr>\n",
       "      <th>318</th>\n",
       "      <td>YOGHURT</td>\n",
       "      <td>AGUASCALIENTES</td>\n",
       "      <td>7401</td>\n",
       "    </tr>\n",
       "    <tr>\n",
       "      <th>319</th>\n",
       "      <td>MAYONESA</td>\n",
       "      <td>AGUASCALIENTES</td>\n",
       "      <td>7173</td>\n",
       "    </tr>\n",
       "  </tbody>\n",
       "</table>\n",
       "<p>320 rows × 3 columns</p>\n",
       "</div>"
      ],
      "text/plain": [
       "                    producto          estado  n_products\n",
       "0          DETERGENTE P/ROPA       ZACATECAS       20884\n",
       "1    LECHE ULTRAPASTEURIZADA       ZACATECAS       17309\n",
       "2                  LAVADORAS       ZACATECAS       16072\n",
       "3                   MAYONESA       ZACATECAS       15927\n",
       "4           JABON DE TOCADOR       ZACATECAS       15926\n",
       "..                       ...             ...         ...\n",
       "315              DESODORANTE  AGUASCALIENTES        8859\n",
       "316         JABON DE TOCADOR  AGUASCALIENTES        8517\n",
       "317           CHILES EN LATA  AGUASCALIENTES        7946\n",
       "318                  YOGHURT  AGUASCALIENTES        7401\n",
       "319                 MAYONESA  AGUASCALIENTES        7173\n",
       "\n",
       "[320 rows x 3 columns]"
      ]
     },
     "metadata": {},
     "output_type": "display_data"
    }
   ],
   "source": [
    "top10 = data[['producto','estado']].copy()\n",
    "# While analyzing if the states list it's ok I found that there is a element called 'estado' that doesn't match with the name of any of the Mexican States, Also I discover a nan record.\n",
    "# so I decided to quit this rows from my df in order to guarantee a correct analysis\n",
    "nan_value = float(\"NaN\")\n",
    "top10.replace(\"\", nan_value, inplace=True) #Deleting empty records\n",
    "top10 = top10.dropna() #I use this panda's function to ensure that I am not counting null values.\n",
    "top10 = top10[top10['estado']!= 'estado']\n",
    "monitored = top10['estado'].unique()\n",
    "# print(len(monitored)) # It's correct, Mexico has 32 states.\n",
    "top10 = top10.value_counts().to_frame('n_products').reset_index()\n",
    "top10 = top10.sort_values(['estado','n_products'], ascending = False)\n",
    "top10 = top10.groupby('estado').head(10).reset_index()\n",
    "del top10['index']\n",
    "display(top10)\n",
    "del top10"
   ]
  },
  {
   "cell_type": "markdown",
   "metadata": {},
   "source": [
    "#### 3. Which is the commercial chain with the highest number of monitored products?\n",
    "Code:\n"
   ]
  },
  {
   "cell_type": "code",
   "execution_count": 109,
   "metadata": {},
   "outputs": [
    {
     "data": {
      "text/plain": [
       "cadenaComercial\n",
       "WAL-MART    8643133\n",
       "Name: producto, dtype: int64"
      ]
     },
     "execution_count": 109,
     "metadata": {},
     "output_type": "execute_result"
    }
   ],
   "source": [
    "cc = data[['cadenaComercial','producto']].copy()\n",
    "# While analyzing if the states list it's ok I found that there is a element called 'estado' that doesn't match with the name of any of the Mexican States, Also I discover a nan record.\n",
    "# so I decided to quit this rows from my df in order to guarantee a correct analysis\n",
    "nan_value = float(\"NaN\")\n",
    "cc.replace(\"\", nan_value, inplace=True) #Deleting empty records\n",
    "cc = cc.dropna() #I use this panda's function to ensure that I am not counting null values.\n",
    "cc = cc.groupby('cadenaComercial')['producto'].count().nlargest(1)\n",
    "cc"
   ]
  },
  {
   "cell_type": "markdown",
   "metadata": {},
   "source": [
    "#### 4. Use the data to find an interesting fact.\n",
    "\n",
    "I would like to know the top 5 most expensive and the cheapest product monitored by the PROFECO.\n",
    "\n",
    "Code:\n"
   ]
  },
  {
   "cell_type": "code",
   "execution_count": 123,
   "metadata": {},
   "outputs": [
    {
     "name": "stdout",
     "output_type": "stream",
     "text": [
      "Top 5 Cheapest monitored products:\n"
     ]
    },
    {
     "data": {
      "text/html": [
       "<div>\n",
       "<style scoped>\n",
       "    .dataframe tbody tr th:only-of-type {\n",
       "        vertical-align: middle;\n",
       "    }\n",
       "\n",
       "    .dataframe tbody tr th {\n",
       "        vertical-align: top;\n",
       "    }\n",
       "\n",
       "    .dataframe thead th {\n",
       "        text-align: right;\n",
       "    }\n",
       "</style>\n",
       "<table border=\"1\" class=\"dataframe\">\n",
       "  <thead>\n",
       "    <tr style=\"text-align: right;\">\n",
       "      <th></th>\n",
       "      <th>producto</th>\n",
       "      <th>precio</th>\n",
       "      <th>presentacion</th>\n",
       "    </tr>\n",
       "  </thead>\n",
       "  <tbody>\n",
       "    <tr>\n",
       "      <th>55516133</th>\n",
       "      <td>CHILE SECO</td>\n",
       "      <td>0.10</td>\n",
       "      <td>BOLSA 100 GR. PASILLA</td>\n",
       "    </tr>\n",
       "    <tr>\n",
       "      <th>16351042</th>\n",
       "      <td>PASTA PARA SOPA</td>\n",
       "      <td>0.10</td>\n",
       "      <td>PAQUETE 200 GR. SPAGHETTI</td>\n",
       "    </tr>\n",
       "    <tr>\n",
       "      <th>61433448</th>\n",
       "      <td>LECHUGA</td>\n",
       "      <td>0.10</td>\n",
       "      <td>PZA. ROMANA</td>\n",
       "    </tr>\n",
       "    <tr>\n",
       "      <th>14758682</th>\n",
       "      <td>MARGARINA</td>\n",
       "      <td>0.25</td>\n",
       "      <td>BARRA 90 GR. SIN SAL</td>\n",
       "    </tr>\n",
       "    <tr>\n",
       "      <th>333754</th>\n",
       "      <td>ACELGA</td>\n",
       "      <td>0.45</td>\n",
       "      <td>MANOJO</td>\n",
       "    </tr>\n",
       "  </tbody>\n",
       "</table>\n",
       "</div>"
      ],
      "text/plain": [
       "                 producto  precio               presentacion\n",
       "55516133       CHILE SECO    0.10      BOLSA 100 GR. PASILLA\n",
       "16351042  PASTA PARA SOPA    0.10  PAQUETE 200 GR. SPAGHETTI\n",
       "61433448          LECHUGA    0.10                PZA. ROMANA\n",
       "14758682        MARGARINA    0.25       BARRA 90 GR. SIN SAL\n",
       "333754             ACELGA    0.45                     MANOJO"
      ]
     },
     "metadata": {},
     "output_type": "display_data"
    },
    {
     "name": "stdout",
     "output_type": "stream",
     "text": [
      "Top 5 Most Expensive monitored products:\n"
     ]
    },
    {
     "data": {
      "text/html": [
       "<div>\n",
       "<style scoped>\n",
       "    .dataframe tbody tr th:only-of-type {\n",
       "        vertical-align: middle;\n",
       "    }\n",
       "\n",
       "    .dataframe tbody tr th {\n",
       "        vertical-align: top;\n",
       "    }\n",
       "\n",
       "    .dataframe thead th {\n",
       "        text-align: right;\n",
       "    }\n",
       "</style>\n",
       "<table border=\"1\" class=\"dataframe\">\n",
       "  <thead>\n",
       "    <tr style=\"text-align: right;\">\n",
       "      <th></th>\n",
       "      <th>producto</th>\n",
       "      <th>precio</th>\n",
       "      <th>presentacion</th>\n",
       "    </tr>\n",
       "  </thead>\n",
       "  <tbody>\n",
       "    <tr>\n",
       "      <th>33061685</th>\n",
       "      <td>PANTALLAS</td>\n",
       "      <td>299999.00</td>\n",
       "      <td>84 LM 9600. 84 PLGS. LED 3D. ENTRADA USB</td>\n",
       "    </tr>\n",
       "    <tr>\n",
       "      <th>27799092</th>\n",
       "      <td>PANTALLAS</td>\n",
       "      <td>299999.00</td>\n",
       "      <td>84 LM 9600. 84 PLGS. LED 3D. ENTRADA USB</td>\n",
       "    </tr>\n",
       "    <tr>\n",
       "      <th>29812877</th>\n",
       "      <td>PANTALLAS</td>\n",
       "      <td>299999.00</td>\n",
       "      <td>84 LM 9600. 84 PLGS. LED 3D. ENTRADA USB</td>\n",
       "    </tr>\n",
       "    <tr>\n",
       "      <th>29607564</th>\n",
       "      <td>PANTALLAS</td>\n",
       "      <td>254999.15</td>\n",
       "      <td>84 LM 9600. 84 PLGS. LED 3D. ENTRADA USB</td>\n",
       "    </tr>\n",
       "    <tr>\n",
       "      <th>27851686</th>\n",
       "      <td>PANTALLAS</td>\n",
       "      <td>254999.15</td>\n",
       "      <td>84 LM 9600. 84 PLGS. LED 3D. ENTRADA USB</td>\n",
       "    </tr>\n",
       "  </tbody>\n",
       "</table>\n",
       "</div>"
      ],
      "text/plain": [
       "           producto     precio                              presentacion\n",
       "33061685  PANTALLAS  299999.00  84 LM 9600. 84 PLGS. LED 3D. ENTRADA USB\n",
       "27799092  PANTALLAS  299999.00  84 LM 9600. 84 PLGS. LED 3D. ENTRADA USB\n",
       "29812877  PANTALLAS  299999.00  84 LM 9600. 84 PLGS. LED 3D. ENTRADA USB\n",
       "29607564  PANTALLAS  254999.15  84 LM 9600. 84 PLGS. LED 3D. ENTRADA USB\n",
       "27851686  PANTALLAS  254999.15  84 LM 9600. 84 PLGS. LED 3D. ENTRADA USB"
      ]
     },
     "metadata": {},
     "output_type": "display_data"
    }
   ],
   "source": [
    "prices = data[['producto','precio','presentacion']].copy()\n",
    "# While analyzing if the states list it's ok I found that there is a element called 'estado' that doesn't match with the name of any of the Mexican States, Also I discover a nan record.\n",
    "# so I decided to quit this rows from my df in order to guarantee a correct analysis\n",
    "nan_value = float(\"NaN\")\n",
    "prices.replace(\"\", nan_value, inplace=True) #Deleting empty records\n",
    "prices = prices.dropna() #I use this panda's function to ensure that I am not counting null values.\n",
    "prices['precio'] = pd.to_numeric(prices[\"precio\"],errors='coerce') ## Ignoring errors\n",
    "prices = prices.sort_values(['precio'])\n",
    "print(\"Top 5 Cheapest monitored products:\")\n",
    "display(prices.head(5))\n",
    "print(\"Top 5 Most Expensive monitored products:\")\n",
    "prices = prices.sort_values(['precio'],ascending=False)\n",
    "display(prices.head(5))\n"
   ]
  },
  {
   "cell_type": "markdown",
   "metadata": {},
   "source": [
    "#### 5. What are the lessons learned from this exercise?\n",
    "In this excersise I learn how to manipulate large databases, cause until this moment I only have been working with medium size databases, max 400,000 records, So I feel more prepared when a situation like this appear."
   ]
  },
  {
   "cell_type": "markdown",
   "metadata": {},
   "source": [
    "#### 6. Can you identify other ways to approach this problem? Explain.\n",
    "Yes!\n",
    "At the moment of investigate how to process this large database, I discover an alternative to pandas called Dask that I didn't use cause in the requeriements was mandatory to use pandas, but I could see that this library process the data faster due to his paralell computing process.\n",
    "Also when I saw the shape of the df the first thing that came to my mind was the word \"Spark\", but I still in the process of know how it works."
   ]
  },
  {
   "cell_type": "code",
   "execution_count": null,
   "metadata": {},
   "outputs": [],
   "source": []
  }
 ],
 "metadata": {
  "kernelspec": {
   "display_name": "Python 3",
   "language": "python",
   "name": "python3"
  },
  "language_info": {
   "codemirror_mode": {
    "name": "ipython",
    "version": 3
   },
   "file_extension": ".py",
   "mimetype": "text/x-python",
   "name": "python",
   "nbconvert_exporter": "python",
   "pygments_lexer": "ipython3",
   "version": "3.8.5"
  }
 },
 "nbformat": 4,
 "nbformat_minor": 4
}
